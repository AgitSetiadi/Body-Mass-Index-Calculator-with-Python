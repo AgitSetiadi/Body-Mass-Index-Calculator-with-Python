{
 "cells": [
  {
   "cell_type": "code",
   "execution_count": 5,
   "id": "de1eb034",
   "metadata": {},
   "outputs": [
    {
     "name": "stdout",
     "output_type": "stream",
     "text": [
      "Berapa tinggi badan kamu (cm)? 179\n",
      "Berapa berat badan kamu (kg)? 120\n",
      "Body Mass Index kamu:  37.452014606285694\n",
      "Rekomendasi untukmu:  Kamu sangat kelebihan berat badan. Segera dieeeeeet!\n"
     ]
    }
   ],
   "source": [
    "# Function to calculate BMI\n",
    "def calculate_BMI(Weight, Height):\n",
    "    Height = Height/100\n",
    "    BMI = Weight/(Height**2)\n",
    "    return BMI\n",
    "\n",
    "# Function to recommendation BMI\n",
    "def recommendation_BMI(BMI):\n",
    "    if (11 < BMI < 47) :\n",
    "        if (BMI<=16) :\n",
    "            return \"Kamu sangat kurus. Atur asupan makan!\"\n",
    "        elif (BMI<=18.5) :\n",
    "            return \"Kamu kurus. Atur asupan makan!\"\n",
    "        elif (BMI<=25) :\n",
    "            return \"Kamu dalam postur yang ideal. Pertahankan!\"\n",
    "        elif (BMI<=30) :\n",
    "            return \"Kamu kelebihan berat badan. Atur pola makan!\"\n",
    "        else :\n",
    "            return \"Kamu sangat kelebihan berat badan. Segera dieeeeeet!\"\n",
    "    else :\n",
    "        return \"Angka yang kamu masukan salah\"\n",
    "\n",
    "# Input from the user\n",
    "Height = float(input(\"Berapa tinggi badan kamu (cm)? \"))\n",
    "Weight = float(input(\"Berapa berat badan kamu (kg)? \"))\n",
    "\n",
    "# Calculate BMI\n",
    "BMI = calculate_BMI(Weight, Height)\n",
    "\n",
    "# Classify BMI\n",
    "recommendation = recommendation_BMI(BMI)\n",
    "\n",
    "# Display the result\n",
    "print(\"Body Mass Index kamu: \",BMI)\n",
    "print(\"Rekomendasi untukmu: \",recommendation)"
   ]
  }
 ],
 "metadata": {
  "kernelspec": {
   "display_name": "Python 3 (ipykernel)",
   "language": "python",
   "name": "python3"
  },
  "language_info": {
   "codemirror_mode": {
    "name": "ipython",
    "version": 3
   },
   "file_extension": ".py",
   "mimetype": "text/x-python",
   "name": "python",
   "nbconvert_exporter": "python",
   "pygments_lexer": "ipython3",
   "version": "3.11.4"
  }
 },
 "nbformat": 4,
 "nbformat_minor": 5
}
